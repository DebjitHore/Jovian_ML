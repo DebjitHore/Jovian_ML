{
  "nbformat": 4,
  "nbformat_minor": 0,
  "metadata": {
    "kernelspec": {
      "display_name": "Python 3",
      "language": "python",
      "name": "python3"
    },
    "language_info": {
      "codemirror_mode": {
        "name": "ipython",
        "version": 3
      },
      "file_extension": ".py",
      "mimetype": "text/x-python",
      "name": "python",
      "nbconvert_exporter": "python",
      "pygments_lexer": "ipython3",
      "version": "3.8.5"
    },
    "colab": {
      "name": "numpy-array-operations.ipynb",
      "provenance": [],
      "collapsed_sections": [
        "A8m_8GNjn0hy",
        "GVNRpHGBn0h1"
      ],
      "include_colab_link": true
    }
  },
  "cells": [
    {
      "cell_type": "markdown",
      "metadata": {
        "id": "view-in-github",
        "colab_type": "text"
      },
      "source": [
        "<a href=\"https://colab.research.google.com/github/DebjitHore/Jovian_ML_DataAnalysiswithPython/blob/main/numpy_array_operations.ipynb\" target=\"_parent\"><img src=\"https://colab.research.google.com/assets/colab-badge.svg\" alt=\"Open In Colab\"/></a>"
      ]
    },
    {
      "cell_type": "code",
      "metadata": {
        "colab": {
          "base_uri": "https://localhost:8080/"
        },
        "id": "B5UcDd6wn0he",
        "outputId": "420f9358-487b-4641-812f-e3692923a200"
      },
      "source": [
        "# Jovian Commit Essentials\n",
        "# Please retain and execute this cell without modifying the contents for `jovian.commit` to work\n",
        "!pip install jovian --upgrade -q\n",
        "import jovian\n",
        "jovian.set_project('numpy-array-operations')\n",
        "jovian.set_colab_id('1klKhY_bbH7xzDyfgdhOzrJArcLlERsaK')"
      ],
      "execution_count": 1,
      "outputs": [
        {
          "output_type": "stream",
          "text": [
            "\u001b[?25l\r\u001b[K     |████▊                           | 10kB 16.5MB/s eta 0:00:01\r\u001b[K     |█████████▌                      | 20kB 21.5MB/s eta 0:00:01\r\u001b[K     |██████████████▎                 | 30kB 24.6MB/s eta 0:00:01\r\u001b[K     |███████████████████             | 40kB 25.9MB/s eta 0:00:01\r\u001b[K     |███████████████████████▉        | 51kB 28.1MB/s eta 0:00:01\r\u001b[K     |████████████████████████████▋   | 61kB 29.5MB/s eta 0:00:01\r\u001b[K     |████████████████████████████████| 71kB 7.7MB/s \n",
            "\u001b[?25h  Building wheel for uuid (setup.py) ... \u001b[?25l\u001b[?25hdone\n"
          ],
          "name": "stdout"
        }
      ]
    },
    {
      "cell_type": "code",
      "metadata": {
        "id": "Iv8MrNuQn0ho"
      },
      "source": [
        "!pip install jovian --upgrade -q"
      ],
      "execution_count": 2,
      "outputs": []
    },
    {
      "cell_type": "code",
      "metadata": {
        "id": "jp7fM0vfn0ho"
      },
      "source": [
        "import jovian"
      ],
      "execution_count": 3,
      "outputs": []
    },
    {
      "cell_type": "code",
      "metadata": {
        "colab": {
          "base_uri": "https://localhost:8080/",
          "height": 120
        },
        "id": "nCP9afhvn0hp",
        "outputId": "0d394e98-77d5-49ba-c648-b3e801df2484"
      },
      "source": [
        "jovian.commit(project='numpy-array-operations')"
      ],
      "execution_count": 4,
      "outputs": [
        {
          "output_type": "stream",
          "text": [
            "[jovian] Detected Colab notebook...\u001b[0m\n",
            "[jovian] Please enter your API key ( from https://jovian.ai/ ):\u001b[0m\n",
            "API KEY: ··········\n",
            "[jovian] Uploading colab notebook to Jovian...\u001b[0m\n",
            "Committed successfully! https://jovian.ai/debjithore/numpy-array-operations\n"
          ],
          "name": "stdout"
        },
        {
          "output_type": "execute_result",
          "data": {
            "application/vnd.google.colaboratory.intrinsic+json": {
              "type": "string"
            },
            "text/plain": [
              "'https://jovian.ai/debjithore/numpy-array-operations'"
            ]
          },
          "metadata": {
            "tags": []
          },
          "execution_count": 4
        }
      ]
    },
    {
      "cell_type": "markdown",
      "metadata": {
        "id": "nXbRFFhjn0hr"
      },
      "source": [
        "Let's begin by importing Numpy and listing out the functions covered in this notebook."
      ]
    },
    {
      "cell_type": "code",
      "metadata": {
        "id": "znkqmZA4n0hr"
      },
      "source": [
        "import numpy as np"
      ],
      "execution_count": 5,
      "outputs": []
    },
    {
      "cell_type": "code",
      "metadata": {
        "id": "TwfLNgsOn0hs"
      },
      "source": [
        "# List of functions explained \n",
        "function1 = np.arange  # (change this)\n",
        "function2 = np.reshape\n",
        "function3 = np.sort\n",
        "function4 = np.vstack\n",
        "function5 = np.equal"
      ],
      "execution_count": null,
      "outputs": []
    },
    {
      "cell_type": "markdown",
      "metadata": {
        "id": "0I_8INX2n0ht"
      },
      "source": [
        "## Function 1 - np.arange/np.linspace (comparing subtle differences)\n",
        "\n",
        "**np.arange** Return evenly spaced values within a given interval. Values are generated within the half-open interval ``[start, stop)`` (in other words, the interval including `start` but excluding `stop`). For integer arguments the function is equivalent to the Python built-in `range` function, but returns an ndarray rather than a list.\n",
        "\n",
        "**np.linspace** Return evenly spaced numbers over a specified interval. Returns `num` evenly spaced samples, calculated over the interval [`start`, `stop`]. The endpoint of the interval can optionally be excluded."
      ]
    },
    {
      "cell_type": "code",
      "metadata": {
        "colab": {
          "base_uri": "https://localhost:8080/"
        },
        "id": "6fNAxyqRn0hu",
        "outputId": "cadbad57-7548-4f9c-b5c3-023badf95a6f"
      },
      "source": [
        "arr1= np.arange(0, 56, 11)\n",
        "\n",
        "print(arr1)"
      ],
      "execution_count": 11,
      "outputs": [
        {
          "output_type": "stream",
          "text": [
            "[ 0 11 22 33 44 55] [ 0. 11. 22. 33. 44. 55.]\n"
          ],
          "name": "stdout"
        }
      ]
    },
    {
      "cell_type": "markdown",
      "metadata": {
        "id": "uKgAJKvun0hu"
      },
      "source": [
        "Generating a 1D array between `start` and `stop` with a spacing of `step` between each member of the array"
      ]
    },
    {
      "cell_type": "code",
      "metadata": {
        "colab": {
          "base_uri": "https://localhost:8080/"
        },
        "id": "lsGVAyAMn0hv",
        "outputId": "b6698b45-148c-48c8-c123-0760f1fc3e5d"
      },
      "source": [
        "arr1= np.arange(0, 101, 10)\n",
        "arr1"
      ],
      "execution_count": 14,
      "outputs": [
        {
          "output_type": "execute_result",
          "data": {
            "text/plain": [
              "array([  0,  10,  20,  30,  40,  50,  60,  70,  80,  90, 100])"
            ]
          },
          "metadata": {
            "tags": []
          },
          "execution_count": 14
        }
      ]
    },
    {
      "cell_type": "markdown",
      "metadata": {
        "id": "v4r9BbdXn0hv"
      },
      "source": [
        "The function breaks when the stop value is a non-integer type\n",
        "\n"
      ]
    },
    {
      "cell_type": "code",
      "metadata": {
        "colab": {
          "base_uri": "https://localhost:8080/",
          "height": 180
        },
        "id": "eBwynxx2n0hw",
        "outputId": "970d2047-b3c7-4002-ff59-a55ee5f4e8ab"
      },
      "source": [
        "arr1= np.arange(0, '9.5', 2)\n",
        "arr1"
      ],
      "execution_count": 21,
      "outputs": [
        {
          "output_type": "error",
          "ename": "TypeError",
          "evalue": "ignored",
          "traceback": [
            "\u001b[0;31m---------------------------------------------------------------------------\u001b[0m",
            "\u001b[0;31mTypeError\u001b[0m                                 Traceback (most recent call last)",
            "\u001b[0;32m<ipython-input-21-a95588b59ebb>\u001b[0m in \u001b[0;36m<module>\u001b[0;34m()\u001b[0m\n\u001b[0;32m----> 1\u001b[0;31m \u001b[0marr1\u001b[0m\u001b[0;34m=\u001b[0m \u001b[0mnp\u001b[0m\u001b[0;34m.\u001b[0m\u001b[0marange\u001b[0m\u001b[0;34m(\u001b[0m\u001b[0;36m0\u001b[0m\u001b[0;34m,\u001b[0m \u001b[0;34m'9.5'\u001b[0m\u001b[0;34m,\u001b[0m \u001b[0;36m2\u001b[0m\u001b[0;34m)\u001b[0m\u001b[0;34m\u001b[0m\u001b[0;34m\u001b[0m\u001b[0m\n\u001b[0m\u001b[1;32m      2\u001b[0m \u001b[0marr1\u001b[0m\u001b[0;34m\u001b[0m\u001b[0;34m\u001b[0m\u001b[0m\n",
            "\u001b[0;31mTypeError\u001b[0m: unsupported operand type(s) for -: 'str' and 'int'"
          ]
        }
      ]
    },
    {
      "cell_type": "markdown",
      "metadata": {
        "id": "BA5nnp0yn0hw"
      },
      "source": [
        "The function breaks when the stop value is a non-integer type, so the start,stop and step values should always be integer or float type"
      ]
    },
    {
      "cell_type": "markdown",
      "metadata": {
        "id": "0e9B_Lsmn0hx"
      },
      "source": [
        "Use function when you need to generate a 1D array"
      ]
    },
    {
      "cell_type": "code",
      "metadata": {
        "colab": {
          "base_uri": "https://localhost:8080/",
          "height": 86
        },
        "id": "kC4fcgDdn0hx",
        "outputId": "a0ec66e6-f14e-4720-fced-1ad9a0fe94a9"
      },
      "source": [
        "jovian.commit()"
      ],
      "execution_count": 22,
      "outputs": [
        {
          "output_type": "stream",
          "text": [
            "[jovian] Detected Colab notebook...\u001b[0m\n",
            "[jovian] Uploading colab notebook to Jovian...\u001b[0m\n",
            "Committed successfully! https://jovian.ai/debjithore/numpy-array-operations\n"
          ],
          "name": "stdout"
        },
        {
          "output_type": "execute_result",
          "data": {
            "application/vnd.google.colaboratory.intrinsic+json": {
              "type": "string"
            },
            "text/plain": [
              "'https://jovian.ai/debjithore/numpy-array-operations'"
            ]
          },
          "metadata": {
            "tags": []
          },
          "execution_count": 22
        }
      ]
    },
    {
      "cell_type": "markdown",
      "metadata": {
        "id": "A8m_8GNjn0hy"
      },
      "source": [
        "## Function 2 - np.reshape\n",
        "\n",
        "Gives a new shape to an array without changing its data."
      ]
    },
    {
      "cell_type": "code",
      "metadata": {
        "colab": {
          "base_uri": "https://localhost:8080/"
        },
        "id": "2p7LN2dLn0hy",
        "outputId": "b27de481-b3e7-4ca4-fe21-2de03ab61f48"
      },
      "source": [
        "print(arr1.reshape((5,1)))"
      ],
      "execution_count": 26,
      "outputs": [
        {
          "output_type": "stream",
          "text": [
            "[[0.]\n",
            " [2.]\n",
            " [4.]\n",
            " [6.]\n",
            " [8.]]\n"
          ],
          "name": "stdout"
        }
      ]
    },
    {
      "cell_type": "markdown",
      "metadata": {
        "id": "OJ_iBwBPn0hz"
      },
      "source": [
        "Creating a random 1D array of 25 elements and then reshaping it to a (5,5) 2D array."
      ]
    },
    {
      "cell_type": "code",
      "metadata": {
        "colab": {
          "base_uri": "https://localhost:8080/"
        },
        "id": "Ep2tuXxan0hz",
        "outputId": "7b4ff053-0505-4934-c53b-b06dbe775ad7"
      },
      "source": [
        "arr= np.random.randint(0, 15, 25)\n",
        "print(arr.reshape((5,5)))"
      ],
      "execution_count": 27,
      "outputs": [
        {
          "output_type": "stream",
          "text": [
            "[[ 6  4  3 12  9]\n",
            " [14 14  6  7  3]\n",
            " [ 2 12  3 10 14]\n",
            " [ 0  8  4 11  5]\n",
            " [ 5 14  2  6  0]]\n"
          ],
          "name": "stdout"
        }
      ]
    },
    {
      "cell_type": "markdown",
      "metadata": {
        "id": "qwWMsUxdn0hz"
      },
      "source": [
        "Error scenario of np.reshape"
      ]
    },
    {
      "cell_type": "code",
      "metadata": {
        "colab": {
          "base_uri": "https://localhost:8080/",
          "height": 163
        },
        "id": "OsL_L4J9n0h0",
        "outputId": "263bc078-17b2-4e75-fbf3-776f0c68996f"
      },
      "source": [
        "arr.reshape((5,4))"
      ],
      "execution_count": 28,
      "outputs": [
        {
          "output_type": "error",
          "ename": "ValueError",
          "evalue": "ignored",
          "traceback": [
            "\u001b[0;31m---------------------------------------------------------------------------\u001b[0m",
            "\u001b[0;31mValueError\u001b[0m                                Traceback (most recent call last)",
            "\u001b[0;32m<ipython-input-28-5bf2e9f9d45c>\u001b[0m in \u001b[0;36m<module>\u001b[0;34m()\u001b[0m\n\u001b[0;32m----> 1\u001b[0;31m \u001b[0marr\u001b[0m\u001b[0;34m.\u001b[0m\u001b[0mreshape\u001b[0m\u001b[0;34m(\u001b[0m\u001b[0;34m(\u001b[0m\u001b[0;36m5\u001b[0m\u001b[0;34m,\u001b[0m\u001b[0;36m4\u001b[0m\u001b[0;34m)\u001b[0m\u001b[0;34m)\u001b[0m\u001b[0;34m\u001b[0m\u001b[0;34m\u001b[0m\u001b[0m\n\u001b[0m",
            "\u001b[0;31mValueError\u001b[0m: cannot reshape array of size 25 into shape (5,4)"
          ]
        }
      ]
    },
    {
      "cell_type": "markdown",
      "metadata": {
        "id": "qvoj_vgNn0h0"
      },
      "source": [
        "The `reshape` function breaks when the number of elements in original array and the reshaped array are not equal"
      ]
    },
    {
      "cell_type": "markdown",
      "metadata": {
        "id": "lpoTbfOnn0h0"
      },
      "source": [
        "Use it to reshape arrays."
      ]
    },
    {
      "cell_type": "code",
      "metadata": {
        "colab": {
          "base_uri": "https://localhost:8080/",
          "height": 86
        },
        "id": "uRvG6YGCn0h1",
        "outputId": "911423ed-707e-492c-e34a-b3ef7885158e"
      },
      "source": [
        "jovian.commit()"
      ],
      "execution_count": 29,
      "outputs": [
        {
          "output_type": "stream",
          "text": [
            "[jovian] Detected Colab notebook...\u001b[0m\n",
            "[jovian] Uploading colab notebook to Jovian...\u001b[0m\n",
            "Committed successfully! https://jovian.ai/debjithore/numpy-array-operations\n"
          ],
          "name": "stdout"
        },
        {
          "output_type": "execute_result",
          "data": {
            "application/vnd.google.colaboratory.intrinsic+json": {
              "type": "string"
            },
            "text/plain": [
              "'https://jovian.ai/debjithore/numpy-array-operations'"
            ]
          },
          "metadata": {
            "tags": []
          },
          "execution_count": 29
        }
      ]
    },
    {
      "cell_type": "markdown",
      "metadata": {
        "id": "GVNRpHGBn0h1"
      },
      "source": [
        "## Function 3 - np.sort\n",
        "\n",
        "Return a sorted copy of an array.\n"
      ]
    },
    {
      "cell_type": "code",
      "metadata": {
        "colab": {
          "base_uri": "https://localhost:8080/"
        },
        "id": "cwdHO_Gmn0h1",
        "outputId": "cdb7de99-d19e-41b2-fc33-a6f0bb6b5525"
      },
      "source": [
        "arr= arr.reshape((5,5))\n",
        "np.sort(arr, axis=0)"
      ],
      "execution_count": 32,
      "outputs": [
        {
          "output_type": "execute_result",
          "data": {
            "text/plain": [
              "array([[ 0,  4,  2,  6,  0],\n",
              "       [ 2,  8,  3,  7,  3],\n",
              "       [ 5, 12,  3, 10,  5],\n",
              "       [ 6, 14,  4, 11,  9],\n",
              "       [14, 14,  6, 12, 14]])"
            ]
          },
          "metadata": {
            "tags": []
          },
          "execution_count": 32
        }
      ]
    },
    {
      "cell_type": "markdown",
      "metadata": {
        "id": "Ni-RGbOln0h2"
      },
      "source": [
        "Sorting a 1D array."
      ]
    },
    {
      "cell_type": "code",
      "metadata": {
        "colab": {
          "base_uri": "https://localhost:8080/"
        },
        "id": "zzsUduvQn0h2",
        "outputId": "b4d49ac6-130c-4cd2-dc35-2663061d81d2"
      },
      "source": [
        "np.sort(np.random.randint(0,100,25))"
      ],
      "execution_count": 34,
      "outputs": [
        {
          "output_type": "execute_result",
          "data": {
            "text/plain": [
              "array([ 1,  4,  5,  9, 14, 20, 23, 28, 29, 32, 33, 33, 37, 43, 49, 56, 68,\n",
              "       69, 77, 78, 79, 88, 89, 89, 90])"
            ]
          },
          "metadata": {
            "tags": []
          },
          "execution_count": 34
        }
      ]
    },
    {
      "cell_type": "markdown",
      "metadata": {
        "id": "UFNwrIV3n0h2"
      },
      "source": [
        "Trying to sort an array with integer and string elements"
      ]
    },
    {
      "cell_type": "code",
      "metadata": {
        "colab": {
          "base_uri": "https://localhost:8080/",
          "height": 163
        },
        "id": "XXYmPSZon0h2",
        "outputId": "b908e493-1c85-42a8-eee2-0fcb1076cd16"
      },
      "source": [
        "np.array([1,2,3,'a', 'b'], dtype=object).sort()"
      ],
      "execution_count": 36,
      "outputs": [
        {
          "output_type": "error",
          "ename": "TypeError",
          "evalue": "ignored",
          "traceback": [
            "\u001b[0;31m---------------------------------------------------------------------------\u001b[0m",
            "\u001b[0;31mTypeError\u001b[0m                                 Traceback (most recent call last)",
            "\u001b[0;32m<ipython-input-36-accf3474319a>\u001b[0m in \u001b[0;36m<module>\u001b[0;34m()\u001b[0m\n\u001b[0;32m----> 1\u001b[0;31m \u001b[0mnp\u001b[0m\u001b[0;34m.\u001b[0m\u001b[0marray\u001b[0m\u001b[0;34m(\u001b[0m\u001b[0;34m[\u001b[0m\u001b[0;36m1\u001b[0m\u001b[0;34m,\u001b[0m\u001b[0;36m2\u001b[0m\u001b[0;34m,\u001b[0m\u001b[0;36m3\u001b[0m\u001b[0;34m,\u001b[0m\u001b[0;34m'a'\u001b[0m\u001b[0;34m,\u001b[0m \u001b[0;34m'b'\u001b[0m\u001b[0;34m]\u001b[0m\u001b[0;34m,\u001b[0m \u001b[0mdtype\u001b[0m\u001b[0;34m=\u001b[0m\u001b[0mobject\u001b[0m\u001b[0;34m)\u001b[0m\u001b[0;34m.\u001b[0m\u001b[0msort\u001b[0m\u001b[0;34m(\u001b[0m\u001b[0;34m)\u001b[0m\u001b[0;34m\u001b[0m\u001b[0;34m\u001b[0m\u001b[0m\n\u001b[0m",
            "\u001b[0;31mTypeError\u001b[0m: '<' not supported between instances of 'str' and 'int'"
          ]
        }
      ]
    },
    {
      "cell_type": "markdown",
      "metadata": {
        "id": "6XRxTPTon0h3"
      },
      "source": [
        "Function breaks when you try to sort a mixed data type array"
      ]
    },
    {
      "cell_type": "markdown",
      "metadata": {
        "id": "sOWAxrMZn0h3"
      },
      "source": [
        "Use to sort an array, the algorithm used to sort can also be chosen."
      ]
    },
    {
      "cell_type": "code",
      "metadata": {
        "colab": {
          "base_uri": "https://localhost:8080/",
          "height": 86
        },
        "id": "9jIg2ShAn0h4",
        "outputId": "a6deebe0-b1a6-4a31-fec1-b66c58a6fe0b"
      },
      "source": [
        "jovian.commit()"
      ],
      "execution_count": 37,
      "outputs": [
        {
          "output_type": "stream",
          "text": [
            "[jovian] Detected Colab notebook...\u001b[0m\n",
            "[jovian] Uploading colab notebook to Jovian...\u001b[0m\n",
            "Committed successfully! https://jovian.ai/debjithore/numpy-array-operations\n"
          ],
          "name": "stdout"
        },
        {
          "output_type": "execute_result",
          "data": {
            "application/vnd.google.colaboratory.intrinsic+json": {
              "type": "string"
            },
            "text/plain": [
              "'https://jovian.ai/debjithore/numpy-array-operations'"
            ]
          },
          "metadata": {
            "tags": []
          },
          "execution_count": 37
        }
      ]
    },
    {
      "cell_type": "markdown",
      "metadata": {
        "id": "g9JZGxncn0h9"
      },
      "source": [
        "## Function 4 - np.vstack\n",
        "\n",
        "Used to stack the arrays row-wise"
      ]
    },
    {
      "cell_type": "code",
      "metadata": {
        "colab": {
          "base_uri": "https://localhost:8080/"
        },
        "id": "91VfEqZln0h9",
        "outputId": "dd948285-7fc3-4e63-f3a1-5f2c59ca2373"
      },
      "source": [
        "# Example 1 - working\n",
        "arr1 = np.array([\n",
        "                 [1,2,3,4],\n",
        "                 [5,6,7,8]\n",
        "])\n",
        "arr2= np.array([\n",
        "                [7,8,9,10],\n",
        "                [11,12,13,14]\n",
        "])\n",
        "np.vstack((arr1, arr2))"
      ],
      "execution_count": 39,
      "outputs": [
        {
          "output_type": "execute_result",
          "data": {
            "text/plain": [
              "array([[ 1,  2,  3,  4],\n",
              "       [ 5,  6,  7,  8],\n",
              "       [ 7,  8,  9, 10],\n",
              "       [11, 12, 13, 14]])"
            ]
          },
          "metadata": {
            "tags": []
          },
          "execution_count": 39
        }
      ]
    },
    {
      "cell_type": "markdown",
      "metadata": {
        "id": "YWanDihKn0h-"
      },
      "source": [
        "Stacking the arrays in reverse order"
      ]
    },
    {
      "cell_type": "code",
      "metadata": {
        "colab": {
          "base_uri": "https://localhost:8080/"
        },
        "id": "a3Zztjman0h-",
        "outputId": "39622d01-d07e-4c3b-95fd-e00ecd2ca178"
      },
      "source": [
        "np.vstack((arr2,arr1))"
      ],
      "execution_count": 40,
      "outputs": [
        {
          "output_type": "execute_result",
          "data": {
            "text/plain": [
              "array([[ 7,  8,  9, 10],\n",
              "       [11, 12, 13, 14],\n",
              "       [ 1,  2,  3,  4],\n",
              "       [ 5,  6,  7,  8]])"
            ]
          },
          "metadata": {
            "tags": []
          },
          "execution_count": 40
        }
      ]
    },
    {
      "cell_type": "markdown",
      "metadata": {
        "id": "Zp0RSsMYn0h-"
      },
      "source": [
        "Breaks when array sizes not compatible "
      ]
    },
    {
      "cell_type": "code",
      "metadata": {
        "colab": {
          "base_uri": "https://localhost:8080/",
          "height": 401
        },
        "id": "DNHAtabMn0h-",
        "outputId": "d61bb56e-7a1a-418d-eb9b-c835d769488f"
      },
      "source": [
        "arr2= np.array([\n",
        "                [7,8,9],\n",
        "                [11,12,13]\n",
        "])\n",
        "np.vstack((arr2,arr1))"
      ],
      "execution_count": 42,
      "outputs": [
        {
          "output_type": "error",
          "ename": "ValueError",
          "evalue": "ignored",
          "traceback": [
            "\u001b[0;31m---------------------------------------------------------------------------\u001b[0m",
            "\u001b[0;31mValueError\u001b[0m                                Traceback (most recent call last)",
            "\u001b[0;32m<ipython-input-42-adea3b9fc42d>\u001b[0m in \u001b[0;36m<module>\u001b[0;34m()\u001b[0m\n\u001b[1;32m      3\u001b[0m                 \u001b[0;34m[\u001b[0m\u001b[0;36m11\u001b[0m\u001b[0;34m,\u001b[0m\u001b[0;36m12\u001b[0m\u001b[0;34m,\u001b[0m\u001b[0;36m13\u001b[0m\u001b[0;34m]\u001b[0m\u001b[0;34m\u001b[0m\u001b[0;34m\u001b[0m\u001b[0m\n\u001b[1;32m      4\u001b[0m ])\n\u001b[0;32m----> 5\u001b[0;31m \u001b[0mnp\u001b[0m\u001b[0;34m.\u001b[0m\u001b[0mvstack\u001b[0m\u001b[0;34m(\u001b[0m\u001b[0;34m(\u001b[0m\u001b[0marr2\u001b[0m\u001b[0;34m,\u001b[0m\u001b[0marr1\u001b[0m\u001b[0;34m)\u001b[0m\u001b[0;34m)\u001b[0m\u001b[0;34m\u001b[0m\u001b[0;34m\u001b[0m\u001b[0m\n\u001b[0m",
            "\u001b[0;32m<__array_function__ internals>\u001b[0m in \u001b[0;36mvstack\u001b[0;34m(*args, **kwargs)\u001b[0m\n",
            "\u001b[0;32m/usr/local/lib/python3.7/dist-packages/numpy/core/shape_base.py\u001b[0m in \u001b[0;36mvstack\u001b[0;34m(tup)\u001b[0m\n\u001b[1;32m    281\u001b[0m     \u001b[0;32mif\u001b[0m \u001b[0;32mnot\u001b[0m \u001b[0misinstance\u001b[0m\u001b[0;34m(\u001b[0m\u001b[0marrs\u001b[0m\u001b[0;34m,\u001b[0m \u001b[0mlist\u001b[0m\u001b[0;34m)\u001b[0m\u001b[0;34m:\u001b[0m\u001b[0;34m\u001b[0m\u001b[0;34m\u001b[0m\u001b[0m\n\u001b[1;32m    282\u001b[0m         \u001b[0marrs\u001b[0m \u001b[0;34m=\u001b[0m \u001b[0;34m[\u001b[0m\u001b[0marrs\u001b[0m\u001b[0;34m]\u001b[0m\u001b[0;34m\u001b[0m\u001b[0;34m\u001b[0m\u001b[0m\n\u001b[0;32m--> 283\u001b[0;31m     \u001b[0;32mreturn\u001b[0m \u001b[0m_nx\u001b[0m\u001b[0;34m.\u001b[0m\u001b[0mconcatenate\u001b[0m\u001b[0;34m(\u001b[0m\u001b[0marrs\u001b[0m\u001b[0;34m,\u001b[0m \u001b[0;36m0\u001b[0m\u001b[0;34m)\u001b[0m\u001b[0;34m\u001b[0m\u001b[0;34m\u001b[0m\u001b[0m\n\u001b[0m\u001b[1;32m    284\u001b[0m \u001b[0;34m\u001b[0m\u001b[0m\n\u001b[1;32m    285\u001b[0m \u001b[0;34m\u001b[0m\u001b[0m\n",
            "\u001b[0;32m<__array_function__ internals>\u001b[0m in \u001b[0;36mconcatenate\u001b[0;34m(*args, **kwargs)\u001b[0m\n",
            "\u001b[0;31mValueError\u001b[0m: all the input array dimensions for the concatenation axis must match exactly, but along dimension 1, the array at index 0 has size 3 and the array at index 1 has size 4"
          ]
        }
      ]
    },
    {
      "cell_type": "markdown",
      "metadata": {
        "id": "6jSp9_OZn0h_"
      },
      "source": [
        "Breaks because array sizes are not compatible for a vstack operation, makes sure they have same number of columns for a vstack"
      ]
    },
    {
      "cell_type": "markdown",
      "metadata": {
        "id": "-oZc6Yoin0h_"
      },
      "source": [
        "Use to stack arrays row-wise"
      ]
    },
    {
      "cell_type": "code",
      "metadata": {
        "colab": {
          "base_uri": "https://localhost:8080/",
          "height": 86
        },
        "id": "BEETDVoAn0h_",
        "outputId": "c2293280-79aa-4e6e-dbda-9637dcfd1f93"
      },
      "source": [
        "jovian.commit()"
      ],
      "execution_count": 43,
      "outputs": [
        {
          "output_type": "stream",
          "text": [
            "[jovian] Detected Colab notebook...\u001b[0m\n",
            "[jovian] Uploading colab notebook to Jovian...\u001b[0m\n",
            "Committed successfully! https://jovian.ai/debjithore/numpy-array-operations\n"
          ],
          "name": "stdout"
        },
        {
          "output_type": "execute_result",
          "data": {
            "application/vnd.google.colaboratory.intrinsic+json": {
              "type": "string"
            },
            "text/plain": [
              "'https://jovian.ai/debjithore/numpy-array-operations'"
            ]
          },
          "metadata": {
            "tags": []
          },
          "execution_count": 43
        }
      ]
    },
    {
      "cell_type": "markdown",
      "metadata": {
        "id": "ppubj5Ryn0iA"
      },
      "source": [
        "## Function 5 - np.equal\n",
        "\n",
        "Return (x1 == x2) element-wise."
      ]
    },
    {
      "cell_type": "code",
      "metadata": {
        "colab": {
          "base_uri": "https://localhost:8080/"
        },
        "id": "3aEyN4d4n0iA",
        "outputId": "934a44c9-2250-4e60-df84-ca1a095db2c7"
      },
      "source": [
        "x1= np.array([1,2,3,4])\n",
        "x2= np.array([5,6,7,8])\n",
        "np.equal(x1,x2)"
      ],
      "execution_count": 45,
      "outputs": [
        {
          "output_type": "execute_result",
          "data": {
            "text/plain": [
              "array([False, False, False, False])"
            ]
          },
          "metadata": {
            "tags": []
          },
          "execution_count": 45
        }
      ]
    },
    {
      "cell_type": "markdown",
      "metadata": {
        "id": "19J5ZXAdn0iA"
      },
      "source": [
        "Comparing two arrays of dissimilar sizes but that are broadcastable"
      ]
    },
    {
      "cell_type": "code",
      "metadata": {
        "colab": {
          "base_uri": "https://localhost:8080/"
        },
        "id": "sQ-PzxrYn0iA",
        "outputId": "0e5aec26-81f5-4f22-a096-d99fcfb81e5c"
      },
      "source": [
        "x1= np.array([1,2,3,4])\n",
        "x2= np.array([\n",
        "              [1,2,3,4],\n",
        "              [5,6,7,8]\n",
        "])\n",
        "np.equal(x1,x2)"
      ],
      "execution_count": 48,
      "outputs": [
        {
          "output_type": "execute_result",
          "data": {
            "text/plain": [
              "array([[ True,  True,  True,  True],\n",
              "       [False, False, False, False]])"
            ]
          },
          "metadata": {
            "tags": []
          },
          "execution_count": 48
        }
      ]
    },
    {
      "cell_type": "markdown",
      "metadata": {
        "id": "96vbvOBun0iB"
      },
      "source": [
        "Breaks when array sizes are not comaptible"
      ]
    },
    {
      "cell_type": "code",
      "metadata": {
        "colab": {
          "base_uri": "https://localhost:8080/",
          "height": 197
        },
        "id": "lv54Plmjn0iB",
        "outputId": "b4a11865-d475-4edb-d314-d60a260c5dcd"
      },
      "source": [
        "x1= np.array([1,2,3,4])\n",
        "x2= np.array([5,6,7])\n",
        "np.equal(x1,x2)"
      ],
      "execution_count": 49,
      "outputs": [
        {
          "output_type": "error",
          "ename": "ValueError",
          "evalue": "ignored",
          "traceback": [
            "\u001b[0;31m---------------------------------------------------------------------------\u001b[0m",
            "\u001b[0;31mValueError\u001b[0m                                Traceback (most recent call last)",
            "\u001b[0;32m<ipython-input-49-138a0be986d8>\u001b[0m in \u001b[0;36m<module>\u001b[0;34m()\u001b[0m\n\u001b[1;32m      1\u001b[0m \u001b[0mx1\u001b[0m\u001b[0;34m=\u001b[0m \u001b[0mnp\u001b[0m\u001b[0;34m.\u001b[0m\u001b[0marray\u001b[0m\u001b[0;34m(\u001b[0m\u001b[0;34m[\u001b[0m\u001b[0;36m1\u001b[0m\u001b[0;34m,\u001b[0m\u001b[0;36m2\u001b[0m\u001b[0;34m,\u001b[0m\u001b[0;36m3\u001b[0m\u001b[0;34m,\u001b[0m\u001b[0;36m4\u001b[0m\u001b[0;34m]\u001b[0m\u001b[0;34m)\u001b[0m\u001b[0;34m\u001b[0m\u001b[0;34m\u001b[0m\u001b[0m\n\u001b[1;32m      2\u001b[0m \u001b[0mx2\u001b[0m\u001b[0;34m=\u001b[0m \u001b[0mnp\u001b[0m\u001b[0;34m.\u001b[0m\u001b[0marray\u001b[0m\u001b[0;34m(\u001b[0m\u001b[0;34m[\u001b[0m\u001b[0;36m5\u001b[0m\u001b[0;34m,\u001b[0m\u001b[0;36m6\u001b[0m\u001b[0;34m,\u001b[0m\u001b[0;36m7\u001b[0m\u001b[0;34m]\u001b[0m\u001b[0;34m)\u001b[0m\u001b[0;34m\u001b[0m\u001b[0;34m\u001b[0m\u001b[0m\n\u001b[0;32m----> 3\u001b[0;31m \u001b[0mnp\u001b[0m\u001b[0;34m.\u001b[0m\u001b[0mequal\u001b[0m\u001b[0;34m(\u001b[0m\u001b[0mx1\u001b[0m\u001b[0;34m,\u001b[0m\u001b[0mx2\u001b[0m\u001b[0;34m)\u001b[0m\u001b[0;34m\u001b[0m\u001b[0;34m\u001b[0m\u001b[0m\n\u001b[0m",
            "\u001b[0;31mValueError\u001b[0m: operands could not be broadcast together with shapes (4,) (3,) "
          ]
        }
      ]
    },
    {
      "cell_type": "markdown",
      "metadata": {
        "id": "dsSLNVALn0iB"
      },
      "source": [
        "Breaks because array sizes are not equal and neither can be broadcast onto each other."
      ]
    },
    {
      "cell_type": "markdown",
      "metadata": {
        "id": "XF9sV4LSn0iC"
      },
      "source": [
        "Use when trying to compare element of two compatible array sizes, elementwise"
      ]
    },
    {
      "cell_type": "code",
      "metadata": {
        "colab": {
          "base_uri": "https://localhost:8080/",
          "height": 86
        },
        "id": "5DIaQCa3n0iC",
        "outputId": "51246f98-0eed-4e47-931e-c70bdfb39139"
      },
      "source": [
        "jovian.commit()"
      ],
      "execution_count": 50,
      "outputs": [
        {
          "output_type": "stream",
          "text": [
            "[jovian] Detected Colab notebook...\u001b[0m\n",
            "[jovian] Uploading colab notebook to Jovian...\u001b[0m\n",
            "Committed successfully! https://jovian.ai/debjithore/numpy-array-operations\n"
          ],
          "name": "stdout"
        },
        {
          "output_type": "execute_result",
          "data": {
            "application/vnd.google.colaboratory.intrinsic+json": {
              "type": "string"
            },
            "text/plain": [
              "'https://jovian.ai/debjithore/numpy-array-operations'"
            ]
          },
          "metadata": {
            "tags": []
          },
          "execution_count": 50
        }
      ]
    },
    {
      "cell_type": "markdown",
      "metadata": {
        "id": "SD1bu7R2n0iC"
      },
      "source": [
        "## Conclusion\n",
        "\n",
        "Summarize what was covered in this notebook, and where to go next"
      ]
    },
    {
      "cell_type": "markdown",
      "metadata": {
        "id": "M6VZd_cCn0iD"
      },
      "source": [
        "## Reference Links\n",
        "Provide links to your references and other interesting articles about Numpy arrays:\n",
        "* Numpy official tutorial : https://numpy.org/doc/stable/user/quickstart.html\n",
        "* ..."
      ]
    },
    {
      "cell_type": "code",
      "metadata": {
        "colab": {
          "base_uri": "https://localhost:8080/",
          "height": 86
        },
        "id": "fZcDLMfUn0iD",
        "outputId": "baf259d1-f2fc-495b-bdfc-3d940701e072"
      },
      "source": [
        "jovian.commit()"
      ],
      "execution_count": 51,
      "outputs": [
        {
          "output_type": "stream",
          "text": [
            "[jovian] Detected Colab notebook...\u001b[0m\n",
            "[jovian] Uploading colab notebook to Jovian...\u001b[0m\n",
            "Committed successfully! https://jovian.ai/debjithore/numpy-array-operations\n"
          ],
          "name": "stdout"
        },
        {
          "output_type": "execute_result",
          "data": {
            "application/vnd.google.colaboratory.intrinsic+json": {
              "type": "string"
            },
            "text/plain": [
              "'https://jovian.ai/debjithore/numpy-array-operations'"
            ]
          },
          "metadata": {
            "tags": []
          },
          "execution_count": 51
        }
      ]
    },
    {
      "cell_type": "code",
      "metadata": {
        "colab": {
          "base_uri": "https://localhost:8080/"
        },
        "id": "T7tQehkXn0iD",
        "outputId": "236a20fb-8e79-4a53-9505-dea8d950e929"
      },
      "source": [
        "jovian.submit(assignment=\"zero-to-pandas-a2\")"
      ],
      "execution_count": 52,
      "outputs": [
        {
          "output_type": "stream",
          "text": [
            "[jovian] Detected Colab notebook...\u001b[0m\n",
            "[jovian] Uploading colab notebook to Jovian...\u001b[0m\n",
            "Committed successfully! https://jovian.ai/debjithore/numpy-array-operations\n",
            "[jovian] Submitting assignment..\u001b[0m\n",
            "[jovian] Verify your submission at https://jovian.ai/learn/data-analysis-with-python-zero-to-pandas/assignment/assignment-2-numpy-array-operations\u001b[0m\n"
          ],
          "name": "stdout"
        }
      ]
    },
    {
      "cell_type": "code",
      "metadata": {
        "id": "U3SzNcg0voHQ"
      },
      "source": [
        ""
      ],
      "execution_count": null,
      "outputs": []
    }
  ]
}